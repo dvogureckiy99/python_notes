{
 "metadata": {
  "language_info": {
   "codemirror_mode": {
    "name": "ipython",
    "version": 3
   },
   "file_extension": ".py",
   "mimetype": "text/x-python",
   "name": "python",
   "nbconvert_exporter": "python",
   "pygments_lexer": "ipython3",
   "version": "3.6.9-final"
  },
  "orig_nbformat": 2,
  "kernelspec": {
   "name": "python3",
   "display_name": "Python 3",
   "language": "python"
  }
 },
 "nbformat": 4,
 "nbformat_minor": 2,
 "cells": [
  {
   "source": [
    "# Объектно-ориентированное программирование "
   ],
   "cell_type": "markdown",
   "metadata": {}
  },
  {
   "source": [
    "ООП - это подход к построению программ. Программы состоят из объектов. Эти объекты могут иметь общие свойства, а могут быть абсолютно разными. "
   ],
   "cell_type": "markdown",
   "metadata": {}
  },
  {
   "source": [
    "Например, объект может представлять собой определение линии, а линия в свою очередь может состоять из 2-х точек, а точки из координат и т.д. Использование стандартных типов данных не позволит использовать такие абстрактные классы.  "
   ],
   "cell_type": "markdown",
   "metadata": {}
  },
  {
   "source": [
    "## Класс vs. экземпляр "
   ],
   "cell_type": "markdown",
   "metadata": {}
  },
  {
   "source": [
    "Класс - шаблон для объекта. С помощью классов можно создавать свои кастомные объекты. В классе есть функции, в питоне они называются методами. Сам класс - это лишь канва, скелет объекта. "
   ],
   "cell_type": "markdown",
   "metadata": {}
  },
  {
   "source": [
    "Экземпляр класса - это объект, который создан по правилам класса. Экземпляр содержит свой адрес в памяти и обладает реальными данными внутри. "
   ],
   "cell_type": "markdown",
   "metadata": {}
  },
  {
   "cell_type": "code",
   "execution_count": 17,
   "metadata": {},
   "outputs": [],
   "source": [
    "class Point:\n",
    "    def __init__(self, x, y):\n",
    "        self.x = x \n",
    "        self.y = y "
   ]
  },
  {
   "source": [
    "Определение класса осуществляется при помощи ключевого слова `class`. "
   ],
   "cell_type": "markdown",
   "metadata": {}
  },
  {
   "source": [
    "Все методы, которые начинаются и заканчиваются на двойное подчёркивание `__smth__` называются **магическими**.\n",
    "\n",
    "Метод `__init__(self)` - это конструктор класса, т.е. этот метод вызывается, когда создаётся новый экземпляр класса"
   ],
   "cell_type": "markdown",
   "metadata": {}
  },
  {
   "cell_type": "code",
   "execution_count": 20,
   "metadata": {},
   "outputs": [],
   "source": [
    "class Point:\n",
    "    def __init__(self, x, y):\n",
    "        self.x = x \n",
    "        self.y = y \n",
    "\n",
    "        print('Contructor was called!')"
   ]
  },
  {
   "cell_type": "code",
   "execution_count": 21,
   "metadata": {},
   "outputs": [
    {
     "output_type": "stream",
     "name": "stdout",
     "text": [
      "Contructor was called!\n"
     ]
    }
   ],
   "source": [
    "start_point = Point(0, 0)"
   ]
  },
  {
   "source": [
    "Первым аргументом в конструкторе всегда идёт слово `self`. По сути это указатель на объект, который создаётся. Чтобы было проще запомнить, можно представить себе, что это огромная светящаяся стрелка, которая указывает на объект. "
   ],
   "cell_type": "markdown",
   "metadata": {}
  },
  {
   "source": [
    "`self.x` и `self.y` - это **аттрибуты экземпляра**. И все остальные переменные, которые будут указываться через `self` - будут аттрибутами. К этим переменным можно обратиться в любом месте **внутри** класса."
   ],
   "cell_type": "markdown",
   "metadata": {}
  },
  {
   "cell_type": "code",
   "execution_count": 22,
   "metadata": {},
   "outputs": [],
   "source": [
    "class Point:\n",
    "    def __init__(self, x, y):\n",
    "        self.x = x \n",
    "        self.y = y \n",
    "\n",
    "        print('Contructor was called!')\n",
    "    \n",
    "    def get_coordinates(self):\n",
    "        return (self.x, self.y)"
   ]
  },
  {
   "source": [
    "Есть ещё **аттрибуты класса**, они не используют слово `self` и определяются снаружи всех методов в классе. Их значение можно использовать во всех экзмеплярах класса. "
   ],
   "cell_type": "markdown",
   "metadata": {}
  },
  {
   "cell_type": "code",
   "execution_count": null,
   "metadata": {},
   "outputs": [],
   "source": [
    "class Point:\n",
    "    point_type = \"2D\"\n",
    "    \n",
    "    def __init__(self, x, y):\n",
    "        self.x = x \n",
    "        self.y = y \n",
    "\n",
    "        print('Contructor was called!')\n",
    "    \n",
    "    def get_coordinates(self):\n",
    "        return (self.x, self.y)"
   ]
  },
  {
   "source": [
    "### Type Hinting"
   ],
   "cell_type": "markdown",
   "metadata": {}
  },
  {
   "source": [
    "Type Hinting - это подсказыватель типов. Эту штука ни к чему не обязывает, но упрощает чтение кода. Через : задаётся тип переменной, который ожидается функцией. После стрелочки `->` идёт тип, который функция возвращает. "
   ],
   "cell_type": "markdown",
   "metadata": {}
  },
  {
   "cell_type": "code",
   "execution_count": 23,
   "metadata": {},
   "outputs": [],
   "source": [
    "class Point:\n",
    "    point_type = \"2D\"\n",
    "    \n",
    "    def __init__(self, x: float, y: float) -> None:\n",
    "        self.x = x \n",
    "        self.y = y \n",
    "\n",
    "        print('Contructor was called!')\n",
    "    \n",
    "    def get_coordinates(self) -> tuple:\n",
    "        return (self.x, self.y)"
   ]
  },
  {
   "source": [
    "Однако, если тип будет не соблюдён ошибки не будет. Т.е. подсказыватель скорее даёт описание функции, нежели проверяет логику работы. "
   ],
   "cell_type": "markdown",
   "metadata": {}
  },
  {
   "cell_type": "code",
   "execution_count": 25,
   "metadata": {},
   "outputs": [
    {
     "output_type": "stream",
     "name": "stdout",
     "text": [
      "Contructor was called!\n"
     ]
    },
    {
     "output_type": "execute_result",
     "data": {
      "text/plain": [
       "(10, 30.6)"
      ]
     },
     "metadata": {},
     "execution_count": 25
    }
   ],
   "source": [
    "x = int(10)\n",
    "y = float(30.6)\n",
    "\n",
    "new_point = Point(x, y)\n",
    "\n",
    "new_point.get_coordinates()"
   ]
  },
  {
   "source": [
    "Когда мы создаём новый экземпляр класса, то он располагается где-то в памяти. Чтобы получить адрес, можно использовать функцию `id`, либо вывести экземпляр класса, этот вывод можно изменить по своему желанию, но об этом чуть позже."
   ],
   "cell_type": "markdown",
   "metadata": {}
  },
  {
   "cell_type": "code",
   "execution_count": 29,
   "metadata": {},
   "outputs": [
    {
     "output_type": "execute_result",
     "data": {
      "text/plain": [
       "(<__main__.Point at 0x7f4788b14a20>, 139945212725792)"
      ]
     },
     "metadata": {},
     "execution_count": 29
    }
   ],
   "source": [
    "new_point, id(new_point)"
   ]
  },
  {
   "source": [
    "### Логирование"
   ],
   "cell_type": "markdown",
   "metadata": {}
  },
  {
   "source": [
    "В python есть модуль [`logging`](https://docs.python.org/3/howto/logging.html). Этот модуль даёт инструмент для красивой записи логов, как в файл, так и в терминал. "
   ],
   "cell_type": "markdown",
   "metadata": {}
  },
  {
   "cell_type": "code",
   "execution_count": 31,
   "metadata": {},
   "outputs": [],
   "source": [
    "import logging \n",
    "\n",
    "logging.basicConfig(level=logging.INFO,\n",
    "                    format='%(asctime)s - %(name)s - %(levelname)s - %(message)s')"
   ]
  },
  {
   "source": [
    "Конфигурация определяет, какая информация будет отражена в логе. "
   ],
   "cell_type": "markdown",
   "metadata": {}
  },
  {
   "source": [
    "Уровни логов располагаются в следующей последовательности (чем ниже уровень, тем круче его нрав)\n",
    "\n",
    "* DEBUG \n",
    "* INFO \n",
    "* WARNING \n",
    "* CRITICAL\n",
    "* ERROR "
   ],
   "cell_type": "markdown",
   "metadata": {}
  },
  {
   "source": [
    "Например, здесь в конфиге указано, что будут отображаться сообщения уровня `INFO` и ниже , а именно, `WARNING`, `ERROR`, `CRITICAL`. При этом уровень `DEBUG` отображаться не будет.\n",
    "\n",
    "Дальше идёт формат, который указывает форматирование лога, здесь указано, что сначала будет указана дата и время, затем имя логгера, уровень лога и само сообщение."
   ],
   "cell_type": "markdown",
   "metadata": {}
  },
  {
   "cell_type": "code",
   "execution_count": 39,
   "metadata": {},
   "outputs": [],
   "source": [
    "class Point:\n",
    "    point_type = \"2D\"\n",
    "    \n",
    "    def __init__(self, x: float, y: float) -> None:\n",
    "        self._logger = logging.getLogger(self.__class__.__name__)\n",
    "        self.x = x \n",
    "        self.y = y \n",
    "\n",
    "        self._logger.info(\"Point was created successfully!\")\n",
    "    \n",
    "    def get_coordinates(self) -> tuple:\n",
    "        return (self.x, self.y)"
   ]
  },
  {
   "cell_type": "code",
   "execution_count": 40,
   "metadata": {},
   "outputs": [
    {
     "output_type": "stream",
     "name": "stderr",
     "text": [
      "2021-03-05 22:15:37,147 - Point - INFO - Point was created successfully!\n"
     ]
    }
   ],
   "source": [
    "point = Point(0, 0)"
   ]
  },
  {
   "source": [
    "В питоне есть общепринятое правило, если хочешь показать, что аттрибут приватный, то его имя должно начинаться с нижнего подчёркивания. Но при этом, к нему всё ещё можно будет обратиться снаружи, так что это скорее признак хорошего тона. "
   ],
   "cell_type": "markdown",
   "metadata": {}
  },
  {
   "cell_type": "code",
   "execution_count": 41,
   "metadata": {},
   "outputs": [
    {
     "output_type": "stream",
     "name": "stderr",
     "text": [
      "2021-03-05 22:15:41,833 - Point - INFO - Hello!\n"
     ]
    }
   ],
   "source": [
    "point._logger.info(\"Hello!\")"
   ]
  },
  {
   "source": [
    "Если хочется чуть больше приватности, то можно добавить 2 нижних подчёркивания. Тогда уже так просто не получится обратиться к аттрибуту извне."
   ],
   "cell_type": "markdown",
   "metadata": {}
  },
  {
   "cell_type": "code",
   "execution_count": 42,
   "metadata": {},
   "outputs": [],
   "source": [
    "class Point:\n",
    "    point_type = \"2D\"\n",
    "    \n",
    "    def __init__(self, x: float, y: float) -> None:\n",
    "        self.__logger = logging.getLogger(self.__class__.__name__)\n",
    "        self.x = x \n",
    "        self.y = y \n",
    "\n",
    "        self.__logger.info(\"Point was created successfully!\")\n",
    "    \n",
    "    def get_coordinates(self) -> tuple:\n",
    "        return (self.x, self.y)"
   ]
  },
  {
   "cell_type": "code",
   "execution_count": 43,
   "metadata": {},
   "outputs": [
    {
     "output_type": "stream",
     "name": "stderr",
     "text": [
      "2021-03-05 22:16:50,637 - Point - INFO - Point was created successfully!\n"
     ]
    }
   ],
   "source": [
    "point = Point(0, 0)"
   ]
  },
  {
   "cell_type": "code",
   "execution_count": 44,
   "metadata": {},
   "outputs": [
    {
     "output_type": "error",
     "ename": "AttributeError",
     "evalue": "'Point' object has no attribute '__logger'",
     "traceback": [
      "\u001b[0;31m---------------------------------------------------------------------------\u001b[0m",
      "\u001b[0;31mAttributeError\u001b[0m                            Traceback (most recent call last)",
      "\u001b[0;32m<ipython-input-44-1a024b633b60>\u001b[0m in \u001b[0;36m<module>\u001b[0;34m\u001b[0m\n\u001b[0;32m----> 1\u001b[0;31m \u001b[0mpoint\u001b[0m\u001b[0;34m.\u001b[0m\u001b[0m__logger\u001b[0m\u001b[0;34m.\u001b[0m\u001b[0minfo\u001b[0m\u001b[0;34m(\u001b[0m\u001b[0;34m\"Hello\"\u001b[0m\u001b[0;34m)\u001b[0m\u001b[0;34m\u001b[0m\u001b[0;34m\u001b[0m\u001b[0m\n\u001b[0m",
      "\u001b[0;31mAttributeError\u001b[0m: 'Point' object has no attribute '__logger'"
     ]
    }
   ],
   "source": [
    "point.__logger.info(\"Hello\")"
   ]
  },
  {
   "source": [
    "НО! Главное помнить, что в python НЕТ ПРИВАТНОСТИ! Если очень захотеть, то всё равно можно обратиться ^____^ "
   ],
   "cell_type": "markdown",
   "metadata": {}
  },
  {
   "cell_type": "code",
   "execution_count": 45,
   "metadata": {},
   "outputs": [
    {
     "output_type": "stream",
     "name": "stderr",
     "text": [
      "2021-03-05 22:17:14,104 - Point - INFO - Hello\n"
     ]
    }
   ],
   "source": [
    "point._Point__logger.info(\"Hello\")"
   ]
  },
  {
   "source": [
    "## Обращение к аттрибутам "
   ],
   "cell_type": "markdown",
   "metadata": {}
  },
  {
   "source": [
    "Чуть выше мы уже обращались у как бы приватному аттрибуту - логгеру. Но есть ведь и публичные аттрибуты: `x` и `y`. Обращение к ним происходит через точку, как будто наш класс - это структура."
   ],
   "cell_type": "markdown",
   "metadata": {}
  },
  {
   "cell_type": "code",
   "execution_count": 47,
   "metadata": {},
   "outputs": [
    {
     "output_type": "stream",
     "name": "stderr",
     "text": [
      "2021-03-05 22:23:18,871 - Point - INFO - Point was created successfully!\n",
      "X: 1\n",
      "Y: 2\n"
     ]
    }
   ],
   "source": [
    "point = Point(1, 2)\n",
    "\n",
    "print(f\"X: {point.x}\") \n",
    "print(f\"Y: {point.y}\")"
   ]
  },
  {
   "source": [
    "### Ещё немного о магических методах "
   ],
   "cell_type": "markdown",
   "metadata": {}
  },
  {
   "source": [
    "Мы уже видели, что если просто вывести экземпляр класса, то мы получим имя объекта и адрес в памяти, по которому расположен экземпляр."
   ],
   "cell_type": "markdown",
   "metadata": {}
  },
  {
   "cell_type": "code",
   "execution_count": 48,
   "metadata": {},
   "outputs": [
    {
     "output_type": "execute_result",
     "data": {
      "text/plain": [
       "<__main__.Point at 0x7f4788395208>"
      ]
     },
     "metadata": {},
     "execution_count": 48
    }
   ],
   "source": [
    "point "
   ]
  },
  {
   "source": [
    "Но если очень хочется красивостей и видеть какую-то определённую информацию, то можно управлять этим выводом с помощью 2-х очень похожих магических методов. \n",
    "\n",
    "Для начала, решим вопрос с выводом экземпляра БЕЗ использования функции `print`. \n",
    "Для этого нужно переопределить метод `__repr__()` "
   ],
   "cell_type": "markdown",
   "metadata": {}
  },
  {
   "cell_type": "code",
   "execution_count": 56,
   "metadata": {},
   "outputs": [],
   "source": [
    "class Point:\n",
    "    point_type = \"2D\"\n",
    "    \n",
    "    def __init__(self, x: float, y: float) -> None:\n",
    "        self.__logger = logging.getLogger(self.__class__.__name__)\n",
    "        self.x = x \n",
    "        self.y = y \n",
    "\n",
    "        self.__logger.info(\"Point was created successfully!\")\n",
    "    \n",
    "    def get_coordinates(self) -> tuple:\n",
    "        return (self.x, self.y)\n",
    "    \n",
    "    def __repr__(self):\n",
    "        return f\"({self.x}, {self.y})\""
   ]
  },
  {
   "source": [
    "метод `__repr__()` всегда должен возвращаться строку. Иначе интерпретатор в некоторых случаях может довольно сильно на вас выругаться. Теперь ещё раз выведем нам экземпляр "
   ],
   "cell_type": "markdown",
   "metadata": {}
  },
  {
   "cell_type": "code",
   "execution_count": 57,
   "metadata": {},
   "outputs": [
    {
     "output_type": "stream",
     "name": "stderr",
     "text": [
      "2021-03-05 22:33:02,238 - Point - INFO - Point was created successfully!\n"
     ]
    },
    {
     "output_type": "execute_result",
     "data": {
      "text/plain": [
       "(2, 3)"
      ]
     },
     "metadata": {},
     "execution_count": 57
    }
   ],
   "source": [
    "point = Point(2, 3) \n",
    "\n",
    "point"
   ]
  },
  {
   "source": [
    "Выглядит красивенько. Но что будет если мы сейчас воспользуемся функцией `print`? "
   ],
   "cell_type": "markdown",
   "metadata": {}
  },
  {
   "cell_type": "code",
   "execution_count": 58,
   "metadata": {},
   "outputs": [
    {
     "output_type": "stream",
     "name": "stdout",
     "text": [
      "(2, 3)\n"
     ]
    }
   ],
   "source": [
    "print(point)"
   ]
  },
  {
   "source": [
    "А ничего не будет ^___^ \n",
    "\n",
    "Т.к. когда есть реализация метода `__repr__`, но нет реализации метода `__str__`, который дёргается при вызове функции `print`, то `__repr__` используется вместо него. \n",
    "\n",
    "Давайте добавить метод `__str__`. "
   ],
   "cell_type": "markdown",
   "metadata": {}
  },
  {
   "cell_type": "code",
   "execution_count": 60,
   "metadata": {},
   "outputs": [],
   "source": [
    "class Point:\n",
    "    point_type = \"2D\"\n",
    "    \n",
    "    def __init__(self, x: float, y: float) -> None:\n",
    "        self.__logger = logging.getLogger(self.__class__.__name__)\n",
    "        self.x = x \n",
    "        self.y = y \n",
    "\n",
    "        self.__logger.info(\"Point was created successfully!\")\n",
    "    \n",
    "    def get_coordinates(self) -> tuple:\n",
    "        return (self.x, self.y)\n",
    "    \n",
    "    def __repr__(self):\n",
    "        return f\"({self.x}, {self.y})\"\n",
    "\n",
    "    def __str__(self):\n",
    "        return f\"Point: ({self.x}, {self.y})\"\n"
   ]
  },
  {
   "cell_type": "code",
   "execution_count": 61,
   "metadata": {},
   "outputs": [
    {
     "output_type": "stream",
     "name": "stderr",
     "text": [
      "2021-03-05 22:33:43,211 - Point - INFO - Point was created successfully!\n"
     ]
    },
    {
     "output_type": "execute_result",
     "data": {
      "text/plain": [
       "(5, 6)"
      ]
     },
     "metadata": {},
     "execution_count": 61
    }
   ],
   "source": [
    "point = Point(5, 6)\n",
    "\n",
    "point"
   ]
  },
  {
   "cell_type": "code",
   "execution_count": 62,
   "metadata": {},
   "outputs": [
    {
     "output_type": "stream",
     "name": "stdout",
     "text": [
      "Point: (5, 6)\n"
     ]
    }
   ],
   "source": [
    "print(point)"
   ]
  },
  {
   "source": [
    "Метод `__str__` тоже должен возвращать строку. \n",
    "Главное, что нужно запомнить: \n",
    "\n",
    "* `__repr__` используется для отображения экземпляра \n",
    "* `__str__` используется при принте экземпляра "
   ],
   "cell_type": "markdown",
   "metadata": {}
  },
  {
   "source": [
    "Теперь уберём из класса метод `__repr__` "
   ],
   "cell_type": "markdown",
   "metadata": {}
  },
  {
   "cell_type": "code",
   "execution_count": 63,
   "metadata": {},
   "outputs": [],
   "source": [
    "class Point:\n",
    "    point_type = \"2D\"\n",
    "    \n",
    "    def __init__(self, x: float, y: float) -> None:\n",
    "        self.__logger = logging.getLogger(self.__class__.__name__)\n",
    "        self.x = x \n",
    "        self.y = y \n",
    "\n",
    "        self.__logger.info(\"Point was created successfully!\")\n",
    "    \n",
    "    def get_coordinates(self) -> tuple:\n",
    "        return (self.x, self.y)\n",
    "\n",
    "    def __str__(self):\n",
    "        return f\"Point: ({self.x}, {self.y})\""
   ]
  },
  {
   "cell_type": "code",
   "execution_count": 65,
   "metadata": {},
   "outputs": [
    {
     "output_type": "stream",
     "name": "stderr",
     "text": [
      "2021-03-05 22:35:25,619 - Point - INFO - Point was created successfully!\n"
     ]
    },
    {
     "output_type": "execute_result",
     "data": {
      "text/plain": [
       "<__main__.Point at 0x7f4788d67e10>"
      ]
     },
     "metadata": {},
     "execution_count": 65
    }
   ],
   "source": [
    "point = Point(3, 4)\n",
    "\n",
    "point"
   ]
  },
  {
   "cell_type": "code",
   "execution_count": 66,
   "metadata": {},
   "outputs": [
    {
     "output_type": "stream",
     "name": "stdout",
     "text": [
      "Point: (3, 4)\n"
     ]
    }
   ],
   "source": [
    "print(point)"
   ]
  },
  {
   "source": [
    "Вот так вот!"
   ],
   "cell_type": "markdown",
   "metadata": {}
  }
 ]
}