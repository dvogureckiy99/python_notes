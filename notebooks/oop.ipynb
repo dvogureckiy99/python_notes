{
 "metadata": {
  "language_info": {
   "codemirror_mode": {
    "name": "ipython",
    "version": 3
   },
   "file_extension": ".py",
   "mimetype": "text/x-python",
   "name": "python",
   "nbconvert_exporter": "python",
   "pygments_lexer": "ipython3",
   "version": "3.6.9-final"
  },
  "orig_nbformat": 2,
  "kernelspec": {
   "name": "python3",
   "display_name": "Python 3",
   "language": "python"
  }
 },
 "nbformat": 4,
 "nbformat_minor": 2,
 "cells": [
  {
   "source": [
    "# Объектно-ориентированное программирование "
   ],
   "cell_type": "markdown",
   "metadata": {}
  },
  {
   "source": [
    "ООП - это подход к построению программ. Программы состоят из объектов. Эти объекты могут иметь общие свойства, а могут быть абсолютно разными. "
   ],
   "cell_type": "markdown",
   "metadata": {}
  },
  {
   "source": [
    "Например, объект может представлять собой определение линии, а линия в свою очередь может состоять из 2-х точек, а точки из координат и т.д. Использование стандартных типов данных не позволит использовать такие абстрактные классы.  "
   ],
   "cell_type": "markdown",
   "metadata": {}
  },
  {
   "source": [
    "## Класс vs. экземпляр "
   ],
   "cell_type": "markdown",
   "metadata": {}
  },
  {
   "source": [
    "Класс - шаблон для объекта. С помощью классов можно создавать свои кастомные объекты. В классе есть функции, в питоне они называются методами. Сам класс - это лишь канва, скелет объекта. "
   ],
   "cell_type": "markdown",
   "metadata": {}
  },
  {
   "source": [
    "Экземпляр класса - это объект, который создан по правилам класса. Экземпляр содержит свой адрес в памяти и обладает реальными данными внутри. "
   ],
   "cell_type": "markdown",
   "metadata": {}
  },
  {
   "cell_type": "code",
   "execution_count": null,
   "metadata": {},
   "outputs": [],
   "source": [
    "class Point:\n",
    "    def __init__(self, x, y):\n",
    "        self.x = x \n",
    "        self.y = y "
   ]
  },
  {
   "source": [
    "Определение класса осуществляется при помощи ключевого слова `class`. "
   ],
   "cell_type": "markdown",
   "metadata": {}
  },
  {
   "source": [
    "Все методы, которые начинаются и заканчиваются на двойное подчёркивание `__smth__` называются **магическими**.\n",
    "\n",
    "Метод `__init__(self)` - это конструктор класса, т.е. этот метод вызывается, когда создаётся новый экземпляр класса"
   ],
   "cell_type": "markdown",
   "metadata": {}
  },
  {
   "cell_type": "code",
   "execution_count": null,
   "metadata": {},
   "outputs": [],
   "source": [
    "class Point:\n",
    "    def __init__(self, x, y):\n",
    "        self.x = x \n",
    "        self.y = y \n",
    "\n",
    "        print('Contructor was called!')"
   ]
  },
  {
   "cell_type": "code",
   "execution_count": 4,
   "metadata": {},
   "outputs": [
    {
     "output_type": "stream",
     "name": "stdout",
     "text": [
      "Contructor was called!\n"
     ]
    }
   ],
   "source": [
    "start_point = Point(0, 0)"
   ]
  },
  {
   "source": [
    "Первым аргументом в конструкторе всегда идёт слово `self`. По сути это указатель на объект, который создаётся. Чтобы было проще запомнить, можно представить себе, что это огромная светящаяся стрелка, которая указывает на объект. "
   ],
   "cell_type": "markdown",
   "metadata": {}
  },
  {
   "source": [
    "`self.x` и `self.y` - это **аттрибуты экземпляра**. И все остальные переменные, которые будут указываться через `self` - будут аттрибутами. К этим переменным можно обратиться в любом месте **внутри** класса."
   ],
   "cell_type": "markdown",
   "metadata": {}
  },
  {
   "cell_type": "code",
   "execution_count": null,
   "metadata": {},
   "outputs": [],
   "source": [
    "class Point:\n",
    "    def __init__(self, x, y):\n",
    "        self.x = x \n",
    "        self.y = y \n",
    "\n",
    "        print('Contructor was called!')\n",
    "    \n",
    "    def get_coordinates(self):\n",
    "        return (self.x, self.y)\n",
    "    \n",
    "    def set_new_x(self, x):\n",
    "        self.new_x = x"
   ]
  },
  {
   "source": [
    "Есть ещё **аттрибуты класса**, они не используют слово `self` и определяются снаружи всех методов в классе. Их значение можно использовать во всех экзмеплярах класса. "
   ],
   "cell_type": "markdown",
   "metadata": {}
  },
  {
   "cell_type": "code",
   "execution_count": 10,
   "metadata": {},
   "outputs": [],
   "source": [
    "class Point:\n",
    "    point_type = \"2D\"\n",
    "    \n",
    "    def __init__(self, x, y):\n",
    "        self.x = x \n",
    "        self.y = y \n",
    "\n",
    "        print('Contructor was called!')\n",
    "    \n",
    "    def get_coordinates(self):\n",
    "        return (self.x, self.y)"
   ]
  },
  {
   "source": [
    "### Type Hinting"
   ],
   "cell_type": "markdown",
   "metadata": {}
  },
  {
   "source": [
    "Type Hinting - это подсказыватель типов. Эту штука ни к чему не обязывает, но упрощает чтение кода. Через : задаётся тип переменной, который ожидается функцией. После стрелочки `->` идёт тип, который функция возвращает. "
   ],
   "cell_type": "markdown",
   "metadata": {}
  },
  {
   "cell_type": "code",
   "execution_count": 16,
   "metadata": {},
   "outputs": [],
   "source": [
    "class Point:\n",
    "    point_type = \"2D\"\n",
    "    \n",
    "    def __init__(self, x: float, y: float) -> None:\n",
    "        self.x = x \n",
    "        self.y = y \n",
    "\n",
    "        print('Contructor was called!')\n",
    "    \n",
    "    def get_coordinates(self) -> tuple:\n",
    "        return (self.x, self.y)"
   ]
  },
  {
   "source": [
    "Однако, если тип будет не соблюдён ошибки не будет. Т.е. подсказыватель скорее даёт описание функции, нежели проверяет логику работы. "
   ],
   "cell_type": "markdown",
   "metadata": {}
  },
  {
   "cell_type": "code",
   "execution_count": 17,
   "metadata": {},
   "outputs": [
    {
     "output_type": "stream",
     "name": "stdout",
     "text": [
      "Contructor was called!\n"
     ]
    },
    {
     "output_type": "execute_result",
     "data": {
      "text/plain": [
       "(10, 30.6)"
      ]
     },
     "metadata": {},
     "execution_count": 17
    }
   ],
   "source": [
    "x = int(10)\n",
    "y = float(30.6)\n",
    "\n",
    "new_point = Point(x, y)\n",
    "\n",
    "new_point.get_coordinates()"
   ]
  },
  {
   "source": [
    "Когда мы создаём новый экземпляр класса, то он располагается где-то в памяти. Чтобы получить адрес, можно использовать функцию `id`, либо вывести экземпляр класса, этот вывод можно изменить по своему желанию, но об этом чуть позже."
   ],
   "cell_type": "markdown",
   "metadata": {}
  },
  {
   "cell_type": "code",
   "execution_count": 19,
   "metadata": {},
   "outputs": [],
   "source": [
    "test_point = new_point"
   ]
  },
  {
   "cell_type": "code",
   "execution_count": 18,
   "metadata": {},
   "outputs": [
    {
     "output_type": "execute_result",
     "data": {
      "text/plain": [
       "(<__main__.Point at 0x7f043ee46518>, 139656211752216)"
      ]
     },
     "metadata": {},
     "execution_count": 18
    }
   ],
   "source": [
    "new_point, id(new_point)"
   ]
  },
  {
   "cell_type": "code",
   "execution_count": 20,
   "metadata": {},
   "outputs": [
    {
     "output_type": "execute_result",
     "data": {
      "text/plain": [
       "139656211752216"
      ]
     },
     "metadata": {},
     "execution_count": 20
    }
   ],
   "source": [
    "id(test_point)"
   ]
  },
  {
   "cell_type": "code",
   "execution_count": 25,
   "metadata": {},
   "outputs": [],
   "source": [
    "test_point.x = 6000"
   ]
  },
  {
   "cell_type": "code",
   "execution_count": 26,
   "metadata": {},
   "outputs": [
    {
     "output_type": "execute_result",
     "data": {
      "text/plain": [
       "6000"
      ]
     },
     "metadata": {},
     "execution_count": 26
    }
   ],
   "source": [
    "new_point.x"
   ]
  },
  {
   "cell_type": "code",
   "execution_count": 23,
   "metadata": {},
   "outputs": [],
   "source": [
    "import copy\n",
    "\n",
    "test_point1 = copy.copy(new_point)"
   ]
  },
  {
   "cell_type": "code",
   "execution_count": 24,
   "metadata": {},
   "outputs": [
    {
     "output_type": "execute_result",
     "data": {
      "text/plain": [
       "139656210775960"
      ]
     },
     "metadata": {},
     "execution_count": 24
    }
   ],
   "source": [
    "id(test_point1)"
   ]
  },
  {
   "source": [
    "### Логирование"
   ],
   "cell_type": "markdown",
   "metadata": {}
  },
  {
   "source": [
    "В python есть модуль [`logging`](https://docs.python.org/3/howto/logging.html). Этот модуль даёт инструмент для красивой записи логов, как в файл, так и в терминал. "
   ],
   "cell_type": "markdown",
   "metadata": {}
  },
  {
   "cell_type": "code",
   "execution_count": 37,
   "metadata": {},
   "outputs": [],
   "source": [
    "import logging \n",
    "\n",
    "logging.basicConfig(level=logging.DEBUG,\n",
    "                    format='%(asctime)s - %(name)s - %(levelname)s - %(message)s')"
   ]
  },
  {
   "source": [
    "Конфигурация определяет, какая информация будет отражена в логе. "
   ],
   "cell_type": "markdown",
   "metadata": {}
  },
  {
   "source": [
    "Уровни логов располагаются в следующей последовательности (чем ниже уровень, тем круче его нрав)\n",
    "\n",
    "* DEBUG \n",
    "* INFO \n",
    "* WARNING \n",
    "* CRITICAL\n",
    "* ERROR "
   ],
   "cell_type": "markdown",
   "metadata": {}
  },
  {
   "source": [
    "Например, здесь в конфиге указано, что будут отображаться сообщения уровня `INFO` и ниже , а именно, `WARNING`, `ERROR`, `CRITICAL`. При этом уровень `DEBUG` отображаться не будет.\n",
    "\n",
    "Дальше идёт формат, который указывает форматирование лога, здесь указано, что сначала будет указана дата и время, затем имя логгера, уровень лога и само сообщение."
   ],
   "cell_type": "markdown",
   "metadata": {}
  },
  {
   "cell_type": "code",
   "execution_count": 44,
   "metadata": {},
   "outputs": [],
   "source": [
    "class Point:\n",
    "    point_type = \"2D\"\n",
    "    \n",
    "    def __init__(self, x: float, y: float) -> None:\n",
    "        self._logger = logging.getLogger(self.__class__.__name__)\n",
    "        # self._logger = logging.getLogger(\"my_logger\")\n",
    "        self.x = x \n",
    "        self.y = y \n",
    "\n",
    "        self._logger.info(\"Point was created successfully!\")\n",
    "        self._logger.debug(\"msg\")\n",
    "        # self._logger.error(\"error\")\n",
    "    \n",
    "    def get_coordinates(self) -> tuple:\n",
    "        return (self.x, self.y)"
   ]
  },
  {
   "cell_type": "code",
   "execution_count": 45,
   "metadata": {},
   "outputs": [],
   "source": [
    "class PointNew:\n",
    "    def __init__(self, x: float, y: float) -> None:\n",
    "        self._logger = logging.getLogger(self.__class__.__name__)\n",
    "        # self._logger = logging.getLogger(\"my_logger\")\n",
    "        self.x = x \n",
    "        self.y = y \n",
    "\n",
    "        self._logger.info(\"Point was created successfully!\")\n",
    "        self._logger.debug(\"msg\")\n",
    "        # self._logger.error(\"error\")\n",
    "    \n",
    "    def get_coordinates(self) -> tuple:\n",
    "        return (self.x, self.y)\n"
   ]
  },
  {
   "cell_type": "code",
   "execution_count": 48,
   "metadata": {},
   "outputs": [
    {
     "output_type": "stream",
     "name": "stderr",
     "text": [
      "2021-03-06 20:47:57,129 - Point - INFO - Point was created successfully!\n",
      "2021-03-06 20:47:57,138 - PointNew - INFO - Point was created successfully!\n"
     ]
    }
   ],
   "source": [
    "import logging \n",
    "\n",
    "logging.basicConfig(level=logging.INFO,\n",
    "                    format='%(asctime)s - %(name)s - %(levelname)s - %(message)s')\n",
    "\n",
    "logger = logging.getLogger(\"logger\")\n",
    "\n",
    "point = Point(0, 0)\n",
    "p1 = PointNew(0, 0)"
   ]
  },
  {
   "source": [
    "В питоне есть общепринятое правило, если хочешь показать, что аттрибут приватный, то его имя должно начинаться с нижнего подчёркивания. Но при этом, к нему всё ещё можно будет обратиться снаружи, так что это скорее признак хорошего тона. "
   ],
   "cell_type": "markdown",
   "metadata": {}
  },
  {
   "cell_type": "code",
   "execution_count": 49,
   "metadata": {},
   "outputs": [
    {
     "output_type": "stream",
     "name": "stderr",
     "text": [
      "2021-03-06 20:50:52,486 - Point - INFO - Hello!\n"
     ]
    }
   ],
   "source": [
    "point._logger.info(\"Hello!\")"
   ]
  },
  {
   "source": [
    "Если хочется чуть больше приватности, то можно добавить 2 нижних подчёркивания. Тогда уже так просто не получится обратиться к аттрибуту извне."
   ],
   "cell_type": "markdown",
   "metadata": {}
  },
  {
   "cell_type": "code",
   "execution_count": 54,
   "metadata": {},
   "outputs": [],
   "source": [
    "class Point:\n",
    "    def __init__(self, x: float, y: float) -> None:\n",
    "        self.__logger = logging.getLogger(self.__class__.__name__)\n",
    "        self.x = x \n",
    "        self.y = y \n",
    "\n",
    "        self.__logger.info(\"Point was created successfully!\")\n",
    "    \n",
    "    def get_coordinates(self) -> tuple:\n",
    "        area = self.__calculate_area(self)\n",
    "        return (self.x, self.y, area)"
   ]
  },
  {
   "cell_type": "code",
   "execution_count": 51,
   "metadata": {},
   "outputs": [
    {
     "output_type": "stream",
     "name": "stderr",
     "text": [
      "2021-03-06 20:51:13,085 - Point - INFO - Point was created successfully!\n"
     ]
    }
   ],
   "source": [
    "point = Point(0, 0)"
   ]
  },
  {
   "cell_type": "code",
   "execution_count": 55,
   "metadata": {},
   "outputs": [
    {
     "output_type": "execute_result",
     "data": {
      "text/plain": [
       "(0, 0)"
      ]
     },
     "metadata": {},
     "execution_count": 55
    }
   ],
   "source": [
    "point.get_coordinates()"
   ]
  },
  {
   "cell_type": "code",
   "execution_count": 56,
   "metadata": {},
   "outputs": [
    {
     "output_type": "error",
     "ename": "AttributeError",
     "evalue": "'Point' object has no attribute '__private_method'",
     "traceback": [
      "\u001b[0;31m---------------------------------------------------------------------------\u001b[0m",
      "\u001b[0;31mAttributeError\u001b[0m                            Traceback (most recent call last)",
      "\u001b[0;32m<ipython-input-56-c543d9e607f6>\u001b[0m in \u001b[0;36m<module>\u001b[0;34m\u001b[0m\n\u001b[0;32m----> 1\u001b[0;31m \u001b[0mpoint\u001b[0m\u001b[0;34m.\u001b[0m\u001b[0m__private_method\u001b[0m\u001b[0;34m(\u001b[0m\u001b[0;34m)\u001b[0m\u001b[0;34m\u001b[0m\u001b[0;34m\u001b[0m\u001b[0m\n\u001b[0m",
      "\u001b[0;31mAttributeError\u001b[0m: 'Point' object has no attribute '__private_method'"
     ]
    }
   ],
   "source": [
    "point.__private_method()"
   ]
  },
  {
   "cell_type": "code",
   "execution_count": 52,
   "metadata": {},
   "outputs": [
    {
     "output_type": "error",
     "ename": "AttributeError",
     "evalue": "'Point' object has no attribute '__logger'",
     "traceback": [
      "\u001b[0;31m---------------------------------------------------------------------------\u001b[0m",
      "\u001b[0;31mAttributeError\u001b[0m                            Traceback (most recent call last)",
      "\u001b[0;32m<ipython-input-52-1a024b633b60>\u001b[0m in \u001b[0;36m<module>\u001b[0;34m\u001b[0m\n\u001b[0;32m----> 1\u001b[0;31m \u001b[0mpoint\u001b[0m\u001b[0;34m.\u001b[0m\u001b[0m__logger\u001b[0m\u001b[0;34m.\u001b[0m\u001b[0minfo\u001b[0m\u001b[0;34m(\u001b[0m\u001b[0;34m\"Hello\"\u001b[0m\u001b[0;34m)\u001b[0m\u001b[0;34m\u001b[0m\u001b[0;34m\u001b[0m\u001b[0m\n\u001b[0m",
      "\u001b[0;31mAttributeError\u001b[0m: 'Point' object has no attribute '__logger'"
     ]
    }
   ],
   "source": [
    "point.__logger.info(\"Hello\")"
   ]
  },
  {
   "source": [
    "НО! Главное помнить, что в python НЕТ ПРИВАТНОСТИ! Если очень захотеть, то всё равно можно обратиться ^____^ "
   ],
   "cell_type": "markdown",
   "metadata": {}
  },
  {
   "cell_type": "code",
   "execution_count": 53,
   "metadata": {},
   "outputs": [
    {
     "output_type": "stream",
     "name": "stderr",
     "text": [
      "2021-03-06 20:51:42,207 - Point - INFO - Hello\n"
     ]
    }
   ],
   "source": [
    "point._Point__logger.info(\"Hello\")"
   ]
  },
  {
   "source": [
    "## Обращение к аттрибутам "
   ],
   "cell_type": "markdown",
   "metadata": {}
  },
  {
   "source": [
    "Чуть выше мы уже обращались у как бы приватному аттрибуту - логгеру. Но есть ведь и публичные аттрибуты: `x` и `y`. Обращение к ним происходит через точку, как будто наш класс - это структура."
   ],
   "cell_type": "markdown",
   "metadata": {}
  },
  {
   "cell_type": "code",
   "execution_count": 57,
   "metadata": {},
   "outputs": [
    {
     "output_type": "stream",
     "name": "stderr",
     "text": [
      "2021-03-06 20:56:49,737 - Point - INFO - Point was created successfully!\n",
      "X: 1\n",
      "Y: 2\n"
     ]
    }
   ],
   "source": [
    "point = Point(1, 2)\n",
    "\n",
    "print(f\"X: {point.x}\") \n",
    "print(f\"Y: {point.y}\")"
   ]
  },
  {
   "source": [
    "### Ещё немного о магических методах "
   ],
   "cell_type": "markdown",
   "metadata": {}
  },
  {
   "source": [
    "Мы уже видели, что если просто вывести экземпляр класса, то мы получим имя объекта и адрес в памяти, по которому расположен экземпляр."
   ],
   "cell_type": "markdown",
   "metadata": {}
  },
  {
   "cell_type": "code",
   "execution_count": 58,
   "metadata": {},
   "outputs": [
    {
     "output_type": "execute_result",
     "data": {
      "text/plain": [
       "<__main__.Point at 0x7f043e46ac18>"
      ]
     },
     "metadata": {},
     "execution_count": 58
    }
   ],
   "source": [
    "point "
   ]
  },
  {
   "source": [
    "Но если очень хочется красивостей и видеть какую-то определённую информацию, то можно управлять этим выводом с помощью 2-х очень похожих магических методов. \n",
    "\n",
    "Для начала, решим вопрос с выводом экземпляра БЕЗ использования функции `print`. \n",
    "Для этого нужно переопределить метод `__repr__()` "
   ],
   "cell_type": "markdown",
   "metadata": {}
  },
  {
   "cell_type": "code",
   "execution_count": 59,
   "metadata": {},
   "outputs": [],
   "source": [
    "class Point:\n",
    "    point_type = \"2D\"\n",
    "    \n",
    "    def __init__(self, x: float, y: float) -> None:\n",
    "        self.__logger = logging.getLogger(self.__class__.__name__)\n",
    "        self.x = x \n",
    "        self.y = y \n",
    "\n",
    "        self.__logger.info(\"Point was created successfully!\")\n",
    "    \n",
    "    def get_coordinates(self) -> tuple:\n",
    "        return (self.x, self.y)\n",
    "    \n",
    "    def __repr__(self):\n",
    "        return f\"({self.x}, {self.y})\""
   ]
  },
  {
   "source": [
    "метод `__repr__()` всегда должен возвращаться строку. Иначе интерпретатор в некоторых случаях может довольно сильно на вас выругаться. Теперь ещё раз выведем нам экземпляр "
   ],
   "cell_type": "markdown",
   "metadata": {}
  },
  {
   "cell_type": "code",
   "execution_count": 60,
   "metadata": {},
   "outputs": [
    {
     "output_type": "stream",
     "name": "stderr",
     "text": [
      "2021-03-06 20:58:03,398 - Point - INFO - Point was created successfully!\n"
     ]
    },
    {
     "output_type": "execute_result",
     "data": {
      "text/plain": [
       "(2, 3)"
      ]
     },
     "metadata": {},
     "execution_count": 60
    }
   ],
   "source": [
    "point = Point(2, 3) \n",
    "\n",
    "point"
   ]
  },
  {
   "source": [
    "Выглядит красивенько. Но что будет если мы сейчас воспользуемся функцией `print`? "
   ],
   "cell_type": "markdown",
   "metadata": {}
  },
  {
   "cell_type": "code",
   "execution_count": 61,
   "metadata": {},
   "outputs": [
    {
     "output_type": "stream",
     "name": "stdout",
     "text": [
      "(2, 3)\n"
     ]
    }
   ],
   "source": [
    "print(point)"
   ]
  },
  {
   "source": [
    "А ничего не будет ^___^ \n",
    "\n",
    "Т.к. когда есть реализация метода `__repr__`, но нет реализации метода `__str__`, который дёргается при вызове функции `print`, то `__repr__` используется вместо него. \n",
    "\n",
    "Давайте добавить метод `__str__`. "
   ],
   "cell_type": "markdown",
   "metadata": {}
  },
  {
   "cell_type": "code",
   "execution_count": 62,
   "metadata": {},
   "outputs": [],
   "source": [
    "class Point:\n",
    "    point_type = \"2D\"\n",
    "    \n",
    "    def __init__(self, x: float, y: float) -> None:\n",
    "        self.__logger = logging.getLogger(self.__class__.__name__)\n",
    "        self.x = x \n",
    "        self.y = y \n",
    "\n",
    "        self.__logger.info(\"Point was created successfully!\")\n",
    "    \n",
    "    def get_coordinates(self) -> tuple:\n",
    "        return (self.x, self.y)\n",
    "    \n",
    "    def __repr__(self):\n",
    "        return f\"({self.x}, {self.y})\"\n",
    "\n",
    "    def __str__(self):\n",
    "        return f\"Point: ({self.x}, {self.y})\"\n"
   ]
  },
  {
   "cell_type": "code",
   "execution_count": 63,
   "metadata": {},
   "outputs": [
    {
     "output_type": "stream",
     "name": "stderr",
     "text": [
      "2021-03-06 20:59:54,326 - Point - INFO - Point was created successfully!\n"
     ]
    },
    {
     "output_type": "execute_result",
     "data": {
      "text/plain": [
       "(5, 6)"
      ]
     },
     "metadata": {},
     "execution_count": 63
    }
   ],
   "source": [
    "point = Point(5, 6)\n",
    "\n",
    "point"
   ]
  },
  {
   "cell_type": "code",
   "execution_count": 64,
   "metadata": {},
   "outputs": [
    {
     "output_type": "stream",
     "name": "stdout",
     "text": [
      "Point: (5, 6)\n"
     ]
    }
   ],
   "source": [
    "print(point)"
   ]
  },
  {
   "source": [
    "Метод `__str__` тоже должен возвращать строку. \n",
    "Главное, что нужно запомнить: \n",
    "\n",
    "* `__repr__` используется для отображения экземпляра \n",
    "* `__str__` используется при принте экземпляра "
   ],
   "cell_type": "markdown",
   "metadata": {}
  },
  {
   "source": [
    "Теперь уберём из класса метод `__repr__` "
   ],
   "cell_type": "markdown",
   "metadata": {}
  },
  {
   "cell_type": "code",
   "execution_count": 65,
   "metadata": {},
   "outputs": [],
   "source": [
    "class Point:\n",
    "    point_type = \"2D\"\n",
    "    \n",
    "    def __init__(self, x: float, y: float) -> None:\n",
    "        self.__logger = logging.getLogger(self.__class__.__name__)\n",
    "        self.x = x \n",
    "        self.y = y \n",
    "\n",
    "        self.__logger.info(\"Point was created successfully!\")\n",
    "    \n",
    "    def get_coordinates(self) -> tuple:\n",
    "        return (self.x, self.y)\n",
    "\n",
    "    def __str__(self):\n",
    "        return f\"Point: ({self.x}, {self.y})\""
   ]
  },
  {
   "cell_type": "code",
   "execution_count": 69,
   "metadata": {},
   "outputs": [
    {
     "output_type": "stream",
     "name": "stderr",
     "text": [
      "2021-03-06 21:01:40,189 - Point - INFO - Point was created successfully!\n",
      "(3, 4)\n"
     ]
    }
   ],
   "source": [
    "point = Point(3, 4)\n",
    "\n",
    "print(f\"({point.x}, {point.y})\")"
   ]
  },
  {
   "cell_type": "code",
   "execution_count": 67,
   "metadata": {},
   "outputs": [
    {
     "output_type": "stream",
     "name": "stdout",
     "text": [
      "Point: (3, 4)\n"
     ]
    }
   ],
   "source": [
    "print(point)"
   ]
  },
  {
   "cell_type": "code",
   "execution_count": 73,
   "metadata": {},
   "outputs": [
    {
     "output_type": "execute_result",
     "data": {
      "text/plain": [
       "__main__.Point"
      ]
     },
     "metadata": {},
     "execution_count": 73
    }
   ],
   "source": [
    "type(point)"
   ]
  },
  {
   "cell_type": "code",
   "execution_count": 70,
   "metadata": {},
   "outputs": [],
   "source": [
    "a = [1, 2, 3, 4]"
   ]
  },
  {
   "cell_type": "code",
   "execution_count": 74,
   "metadata": {},
   "outputs": [
    {
     "output_type": "execute_result",
     "data": {
      "text/plain": [
       "[1, 2, 3, 4]"
      ]
     },
     "metadata": {},
     "execution_count": 74
    }
   ],
   "source": [
    "a"
   ]
  },
  {
   "source": [
    "Вот так вот!"
   ],
   "cell_type": "markdown",
   "metadata": {}
  },
  {
   "source": [
    "## Полезные ссылки\n",
    "\n",
    "* [Что такое ООП?](https://www.youtube.com/watch?v=M58eiYbM6AE)"
   ],
   "cell_type": "markdown",
   "metadata": {}
  },
  {
   "cell_type": "code",
   "execution_count": null,
   "metadata": {},
   "outputs": [],
   "source": []
  }
 ]
}