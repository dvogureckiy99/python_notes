{
 "metadata": {
  "language_info": {
   "codemirror_mode": {
    "name": "ipython",
    "version": 3
   },
   "file_extension": ".py",
   "mimetype": "text/x-python",
   "name": "python",
   "nbconvert_exporter": "python",
   "pygments_lexer": "ipython3",
   "version": "3.8.5-final"
  },
  "orig_nbformat": 2,
  "kernelspec": {
   "name": "python3",
   "display_name": "Python 3.8.5 64-bit",
   "metadata": {
    "interpreter": {
     "hash": "df0893f56f349688326838aaeea0de204df53a132722cbd565e54b24a8fec5f6"
    }
   }
  }
 },
 "nbformat": 4,
 "nbformat_minor": 2,
 "cells": [
  {
   "source": [
    "# Объектно-ориентированное программирование "
   ],
   "cell_type": "markdown",
   "metadata": {}
  },
  {
   "source": [
    "ООП - это подход к построению программ. Программы состоят из объектов. Эти объекты могут иметь общие свойства, а могут быть абсолютно разными. "
   ],
   "cell_type": "markdown",
   "metadata": {}
  },
  {
   "source": [
    "Каждый объект программы, можно представить в виде кирпичика. Их граммотное соединение даёт надёжную конструкцию, устойчивую ко всякого рода непогодам "
   ],
   "cell_type": "markdown",
   "metadata": {}
  },
  {
   "source": [
    "Класс - шаблон для объекта (атрибуты, методы)"
   ],
   "cell_type": "markdown",
   "metadata": {}
  },
  {
   "source": [
    "Инкапсуляция - у объекта есть внутренние данные и методы, но \"пользователь\" использует интерфейсы, которые ему доступны."
   ],
   "cell_type": "markdown",
   "metadata": {}
  },
  {
   "source": [
    "Полиморфизм - переопределение методов у классов-наследников "
   ],
   "cell_type": "markdown",
   "metadata": {}
  },
  {
   "source": [
    "Наследование - классы наследники получают свойства, методы, атрибусы своих родителей"
   ],
   "cell_type": "markdown",
   "metadata": {}
  },
  {
   "cell_type": "code",
   "execution_count": null,
   "metadata": {},
   "outputs": [],
   "source": [
    "class Animals:\n",
    "    def __init__(self):\n",
    "        pass  "
   ]
  },
  {
   "cell_type": "code",
   "execution_count": null,
   "metadata": {},
   "outputs": [],
   "source": [
    "class Dog(Animals):\n",
    "    def __init__(self, name):\n",
    "        super().__init__()\n",
    "        self._age = 1 \n",
    "        self._name = name"
   ]
  },
  {
   "cell_type": "code",
   "execution_count": null,
   "metadata": {},
   "outputs": [],
   "source": []
  }
 ]
}