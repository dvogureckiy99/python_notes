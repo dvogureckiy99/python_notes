{
 "metadata": {
  "language_info": {
   "codemirror_mode": {
    "name": "ipython",
    "version": 3
   },
   "file_extension": ".py",
   "mimetype": "text/x-python",
   "name": "python",
   "nbconvert_exporter": "python",
   "pygments_lexer": "ipython3",
   "version": "3.8.7-final"
  },
  "orig_nbformat": 2,
  "kernelspec": {
   "name": "python3",
   "display_name": "Python 3.8.7 64-bit",
   "metadata": {
    "interpreter": {
     "hash": "31f2aee4e71d21fbe5cf8b01ff0e069b9275f58929596ceb00d14d90e3e16cd6"
    }
   }
  }
 },
 "nbformat": 4,
 "nbformat_minor": 2,
 "cells": [
  {
   "source": [
    "# Принципы ООП "
   ],
   "cell_type": "markdown",
   "metadata": {}
  },
  {
   "source": [
    "<center><img src=\"https://miro.medium.com/max/500/1*-dmHYcAiphpWe6m0pcd-AA.png\" width=400/></center>"
   ],
   "cell_type": "markdown",
   "metadata": {}
  },
  {
   "source": [
    "ООП круче всего работает в языках со статической типизацией: \n",
    "* С++ \n",
    "* C#\n",
    "* Java\n",
    "\n",
    "Потому что у них есть ряд ограничений и инструменты, чтобы эти ограничения обойти. \n",
    "\n",
    "В языках с динамической типизацией (Python, JavaScript, PHP) с ООП сложнее. Вроде как можно и нужно использовать, но как-то всё гибко и хитро. \n",
    "\n",
    "Но сказать, что ООП в языках с динамической типизацией работает хуже - НЕЛЬЗЯ, т.к. оно работает просто по-другому, не хуже, не лучше. Да и вообще всё это субъективная оценка. На самом деле никто не знает как оно должно быть (= "
   ],
   "cell_type": "markdown",
   "metadata": {}
  },
  {
   "source": [
    "ООП - НЕ ОДНО. Видов ООП - много. Кто как хочет, так и реализует. И это нормально! "
   ],
   "cell_type": "markdown",
   "metadata": {}
  },
  {
   "source": [
    "<center><img src=\"https://habrastorage.org/files/57a/830/991/57a830991cfb466c83ebe5d10dd7443e.jpg\" width=500/></center>\n",
    "\n",
    "Это Алан Кей. Он придумал ООП. Крутой чувак, который мало того, что очень шарит в компьютерных науках, так ещё и имеет степень в биологии, философии и ещё круто на гитаре умеет играть. \n",
    "\n",
    "ООП он придумал, посмотрев на живые клетки. Типа, эти хитрые штуки умеют адаптироваться, перестраиваться, восстанавливаться. Чё бы не использовать это в программировании. \n"
   ],
   "cell_type": "markdown",
   "metadata": {}
  },
  {
   "source": [
    "Основные парадигмы (принципы) ООП \n",
    "\n",
    "* Абстракция \n",
    "* **Инкапсуляция**\n",
    "* Полиморфизм \n",
    "* Наследование "
   ],
   "cell_type": "markdown",
   "metadata": {}
  },
  {
   "source": [
    "## Инкапсуляция"
   ],
   "cell_type": "markdown",
   "metadata": {}
  },
  {
   "source": [
    "Принцип, которые хуже всего понимается людьми. Т.к. есть 2 трактовки, отличающиеся друг от друга.\n",
    "\n",
    "\n",
    "(Упрощённо)\n",
    "\n",
    "1. Есть данные и есть функции (методы), которые вертят этими данными"
   ],
   "cell_type": "markdown",
   "metadata": {}
  },
  {
   "cell_type": "code",
   "execution_count": 2,
   "metadata": {},
   "outputs": [],
   "source": [
    "class Cat: \n",
    "    def __init__(self, name):\n",
    "        # вот данные - имя котика\n",
    "        self.name = name \n",
    "        self.name10 = 'super-secret-name'\n",
    "    \n",
    "    # а вот метод, которые выдаёт ДАННЫЕ наружу \n",
    "    def get_name(self):\n",
    "        return self.name \n",
    "    \n",
    "    def set_name(self, name):\n",
    "        self.name = name"
   ]
  },
  {
   "cell_type": "code",
   "execution_count": 9,
   "metadata": {},
   "outputs": [
    {
     "output_type": "stream",
     "name": "stdout",
     "text": [
      "Method Call:\t Sheldon\nAttribute Call:\t Sheldon\n"
     ]
    }
   ],
   "source": [
    "my_cat = Cat('Sheldon')\n",
    "# доступ к данным (имени котика) происходит ТОЛЬКО через метод \n",
    "print('Method Call:\\t', my_cat.get_name())\n",
    "\n",
    "# если сделать так, что инкапсуляция будет нарушена\n",
    "print('Attribute Call:\\t', my_cat.name)"
   ]
  },
  {
   "source": [
    "(Упрощённо) \n",
    "\n",
    "2. Есть инструмент, который умеет ограничивать доступ к данным (например, приватные методы)"
   ],
   "cell_type": "markdown",
   "metadata": {}
  },
  {
   "cell_type": "code",
   "execution_count": 12,
   "metadata": {},
   "outputs": [],
   "source": [
    "class Cat: \n",
    "    def __init__(self, name):\n",
    "        # вот данные - имя котика\n",
    "        self.name = name \n",
    "    \n",
    "    # по соглашению, этот метод нельзя вызывать снаружи \n",
    "    def _calculate_name_length(self): \n",
    "        return len(self.name)\n",
    "    \n",
    "    # а вот методы, которые выдают ДАННЫЕ наружу \n",
    "    def get_name(self):\n",
    "        return self.name \n",
    "\n",
    "    def get_name_length(self):\n",
    "        length = self._calculate_name_length()\n",
    "        return length "
   ]
  },
  {
   "cell_type": "code",
   "execution_count": 13,
   "metadata": {},
   "outputs": [
    {
     "output_type": "execute_result",
     "data": {
      "text/plain": [
       "7"
      ]
     },
     "metadata": {},
     "execution_count": 13
    }
   ],
   "source": [
    "from my_lib import Cat  \n",
    "\n",
    "my_cat = Cat('Sheldon')\n",
    "\n",
    "# это публичный метод, значит вызывать снаружи его можно \n",
    "my_cat.get_name()\n",
    "\n",
    "# это приватный метод, вызывать снаружи нельзя \n",
    "my_cat._calculate_name_length()\n",
    "\n",
    "# это публичный метод, значит вызывать снаружи его можно \n",
    "my_cat.get_name_length()"
   ]
  },
  {
   "source": [
    "Обе трактовки правдивы. Но нужно запомнить, что инкапсуляция больше про разделение данных и методов, которые ими управляют. А не про ограничение их \"видимости\".\n",
    "\n",
    "ИНКАПСУЛЯЦИЯ - это НЕ СОКРЫТИЕ!\n",
    "\n",
    "Ограничение используется только в некоторых случаях. \n",
    "НЕ НАДО делать все методы приватными. Это признак плохого кода. \n",
    "\n",
    "Если есть много методов, которые не должны быть выпущены наружу - это признак на подумать, а может вынести эти методы в отдельную библиотеку? "
   ],
   "cell_type": "markdown",
   "metadata": {}
  },
  {
   "source": [
    "**Итого** \n",
    "\n",
    "* Объект не должен изменяться снаружи ничем, кроме его собственных методов. \n",
    "* Объект может быть изменён только с помощью своих же методов.\n",
    "\n",
    "Вообще, принципы ООП нужны, чтобы код всегда можно было исправить. Нежданчик, да? \n",
    "\n",
    "Но исправить не так, что переписать весь код полностью. А чтобы исправить только один метод или добавить новый метод и код изменился. Таким образом, ООП даёт нам шанс поддерживать рабочее состояние кода, при этом не страдая и не выкалывая себе глаза из-за многотысячной партянки кода. "
   ],
   "cell_type": "markdown",
   "metadata": {}
  },
  {
   "source": [
    "## Полезные ссылки\n",
    "\n",
    "* [Что такое ООП?](https://www.youtube.com/watch?v=M58eiYbM6AE)\n",
    "* [Инкапсуляция](https://www.youtube.com/watch?v=EvGi6XDgV7w)\n",
    "* [Главная ошибка в ООП - инкапсуляция (осторожно мат)](https://www.youtube.com/watch?v=yNUJ3vAeyJQ)\n",
    "* [Самые частые заблуждения о ООП (осторожно мат)](https://www.youtube.com/watch?v=BHNt1fcg8iw)"
   ],
   "cell_type": "markdown",
   "metadata": {}
  },
  {
   "source": [
    "<center><img src=\"https://miro.medium.com/max/5396/1*4TQU8gAHJAJasc-Lwx2APw.png\" width=700/></center>"
   ],
   "cell_type": "markdown",
   "metadata": {}
  }
 ]
}