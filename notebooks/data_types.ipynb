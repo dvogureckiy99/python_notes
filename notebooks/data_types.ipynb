{
 "metadata": {
  "language_info": {
   "codemirror_mode": {
    "name": "ipython",
    "version": 3
   },
   "file_extension": ".py",
   "mimetype": "text/x-python",
   "name": "python",
   "nbconvert_exporter": "python",
   "pygments_lexer": "ipython3",
   "version": "3.8.9"
  },
  "orig_nbformat": 2,
  "kernelspec": {
   "name": "python389jvsc74a57bd031f2aee4e71d21fbe5cf8b01ff0e069b9275f58929596ceb00d14d90e3e16cd6",
   "display_name": "Python 3.8.9 64-bit"
  },
  "metadata": {
   "interpreter": {
    "hash": "31f2aee4e71d21fbe5cf8b01ff0e069b9275f58929596ceb00d14d90e3e16cd6"
   }
  }
 },
 "nbformat": 4,
 "nbformat_minor": 2,
 "cells": [
  {
   "source": [
    "# Типы данных"
   ],
   "cell_type": "markdown",
   "metadata": {}
  },
  {
   "source": [
    "* ВСЁ в питоне ОБЪЕКТ \n"
   ],
   "cell_type": "markdown",
   "metadata": {}
  },
  {
   "source": [
    "* Есть турбо-мега-мета-главный тип - `object` \n",
    "* Все остальные типы наследуются от него по умолчанию "
   ],
   "cell_type": "markdown",
   "metadata": {}
  },
  {
   "source": [
    "Каждый объект (тип) в питоне имеет 2 обязательных поля: \n",
    "- количество ссылок, указывающих на этот объект \n",
    "- тип объекта "
   ],
   "cell_type": "markdown",
   "metadata": {}
  },
  {
   "source": [
    "## Типы данных\n",
    "\n",
    "| Изменяемые            | Неизменяемые              |\n",
    "|:---------------------:|:-------------------------:|\n",
    "| (Mutable)             |(Immutable)                |\n",
    "| list (список)         | number (числа)            | \n",
    "| dict (словарь)        | string (строка)           | \n",
    "| class (класс)         | tuple (кортеж)            |\n",
    "| set (множество)       | frozen set                |\n",
    "|<img width=300/>       |<img width=300/>           |\n",
    "\n",
    "---\n",
    "| Изменяемые            | Неизменяемые              |\n",
    "|:---------------------:|:-------------------------:|\n",
    "| передаются по ссылке  | независимая копия         |\n",
    "| кушают меньше памяти  | ускоряют работу           |              \n",
    "|<img width=300/>       |<img width=300/>           |\n"
   ],
   "cell_type": "markdown",
   "metadata": {}
  },
  {
   "cell_type": "code",
   "execution_count": 1,
   "metadata": {},
   "outputs": [
    {
     "output_type": "stream",
     "name": "stdout",
     "text": [
      "my list 1: [1, 2, 3, 4]\nmy list 2: [200, 2, 3, 4]\nmy list 1: [200, 2, 3, 4]\n"
     ]
    }
   ],
   "source": [
    "my_list_1 = [1, 2, 3, 4]\n",
    "print(f'my list 1: {my_list_1}')\n",
    "\n",
    "my_list_2 = my_list_1 \n",
    "my_list_2[0] = 200 \n",
    "\n",
    "print(f\"my list 2: {my_list_2}\")\n",
    "print(f\"my list 1: {my_list_1}\")"
   ]
  },
  {
   "cell_type": "code",
   "execution_count": 2,
   "metadata": {},
   "outputs": [
    {
     "output_type": "stream",
     "name": "stdout",
     "text": [
      "my list 1: [1, 2, 3, 4]\nmy list 2: [200, 2, 3, 4]\nmy list 1: [1, 2, 3, 4]\n"
     ]
    }
   ],
   "source": [
    "my_list_1 = [1, 2, 3, 4]\n",
    "print(f'my list 1: {my_list_1}')\n",
    "\n",
    "my_list_2 = my_list_1.copy() \n",
    "my_list_2[0] = 200 \n",
    "\n",
    "print(f\"my list 2: {my_list_2}\")\n",
    "print(f\"my list 1: {my_list_1}\")"
   ]
  },
  {
   "cell_type": "code",
   "execution_count": 3,
   "metadata": {},
   "outputs": [
    {
     "output_type": "stream",
     "name": "stdout",
     "text": [
      "String 1: Bazinga\nString 2: Bazinga , Sheldon\nString 1: Bazinga\n"
     ]
    }
   ],
   "source": [
    "str_1 = \"Bazinga\"\n",
    "print(f'String 1: {str_1}')\n",
    "\n",
    "str_2 = str_1\n",
    "str_2 += \" , Sheldon\"\n",
    "print(f'String 2: {str_2}')\n",
    "print(f'String 1: {str_1}')"
   ]
  },
  {
   "source": [
    "* Питон ничего не копирует пока мы его не попросим. \n",
    "* Если надо копировать, то copy() или deepcopy()\n",
    "---"
   ],
   "cell_type": "markdown",
   "metadata": {}
  },
  {
   "source": [
    "## Изменяемые типы данных"
   ],
   "cell_type": "markdown",
   "metadata": {}
  },
  {
   "source": [
    "### List (Список)\n",
    "\n",
    "* Список = **динамический** массив (размер растёт как: 0, 4, 8, 16 , 25, 35…)\n",
    "* доступ к объекту за O(1)\n",
    "* поиск O(n)"
   ],
   "cell_type": "markdown",
   "metadata": {}
  },
  {
   "cell_type": "code",
   "execution_count": 9,
   "metadata": {},
   "outputs": [
    {
     "output_type": "error",
     "ename": "IndexError",
     "evalue": "list index out of range",
     "traceback": [
      "\u001b[0;31m---------------------------------------------------------------------------\u001b[0m",
      "\u001b[0;31mIndexError\u001b[0m                                Traceback (most recent call last)",
      "\u001b[0;32m<ipython-input-9-22a443e61f13>\u001b[0m in \u001b[0;36m<module>\u001b[0;34m\u001b[0m\n\u001b[1;32m      1\u001b[0m \u001b[0mmy_list\u001b[0m \u001b[0;34m=\u001b[0m \u001b[0;34m[\u001b[0m\u001b[0;34m]\u001b[0m\u001b[0;34m\u001b[0m\u001b[0;34m\u001b[0m\u001b[0m\n\u001b[1;32m      2\u001b[0m \u001b[0;34m\u001b[0m\u001b[0m\n\u001b[0;32m----> 3\u001b[0;31m \u001b[0mmy_list\u001b[0m\u001b[0;34m[\u001b[0m\u001b[0;36m0\u001b[0m\u001b[0;34m]\u001b[0m\u001b[0;34m\u001b[0m\u001b[0;34m\u001b[0m\u001b[0m\n\u001b[0m",
      "\u001b[0;31mIndexError\u001b[0m: list index out of range"
     ]
    }
   ],
   "source": [
    "my_list = [] \n",
    "\n",
    "my_list[0]"
   ]
  },
  {
   "cell_type": "code",
   "execution_count": 6,
   "metadata": {},
   "outputs": [
    {
     "output_type": "execute_result",
     "data": {
      "text/plain": [
       "[0, 0, 0, 0, 0, 0]"
      ]
     },
     "metadata": {},
     "execution_count": 6
    }
   ],
   "source": [
    "my_list = [0] * 6\n",
    "my_list"
   ]
  },
  {
   "cell_type": "code",
   "execution_count": 7,
   "metadata": {},
   "outputs": [
    {
     "output_type": "execute_result",
     "data": {
      "text/plain": [
       "[0, 0, 0, 0, 200, 0]"
      ]
     },
     "metadata": {},
     "execution_count": 7
    }
   ],
   "source": [
    "my_list[4] = 200 \n",
    "my_list"
   ]
  },
  {
   "cell_type": "code",
   "execution_count": 8,
   "metadata": {},
   "outputs": [
    {
     "output_type": "execute_result",
     "data": {
      "text/plain": [
       "[None, None, None, None, None, None]"
      ]
     },
     "metadata": {},
     "execution_count": 8
    }
   ],
   "source": [
    "my_list = [None] * 6 \n",
    "my_list"
   ]
  },
  {
   "source": [
    "### Dict (Словарь)\n",
    "\n",
    "* Словарь = хэш-таблица (хэш функция даёт хэш и по хэшу находим ячейку).\n",
    "\n",
    "<center><img src=\"https://lh3.googleusercontent.com/proxy/_q58JQQ8OYyxtoQOvXCZi7vVVVerzUsihCjwJCu0OP534UlhFiD7oMFSoPeUujF9jIXDuoTXEJjm8ShrvMHuP7hiW2I3s2Yg7RUOw7snOmrjw1zLN0Y\" width=600/></center>\n",
    "\n",
    "* в идеале доступ к объекту за O(1) всегда\n",
    "* поиск O(1) (в идеале)\n",
    "* Чтобы работали хэш таблицы, нужна функция сравнения элементов (если была коллизия, например).\n",
    "*  На деле функция сравнения может быть очень дорогой"
   ],
   "cell_type": "markdown",
   "metadata": {}
  },
  {
   "source": [
    "Ключами в dict могут быть только объекты, у которых:\n",
    "* есть хэш,\n",
    "* которые не изменяются во время жизни\n",
    "* только неизменяемые объекты удовлетворяют этим условиям "
   ],
   "cell_type": "markdown",
   "metadata": {}
  },
  {
   "cell_type": "code",
   "execution_count": 10,
   "metadata": {},
   "outputs": [
    {
     "output_type": "execute_result",
     "data": {
      "text/plain": [
       "{1: 'a', 2: 'b'}"
      ]
     },
     "metadata": {},
     "execution_count": 10
    }
   ],
   "source": [
    "# key = number \n",
    "my_dict = {\n",
    "    1: 'a', 2: 'b'\n",
    "}\n",
    "\n",
    "my_dict"
   ]
  },
  {
   "cell_type": "code",
   "execution_count": 11,
   "metadata": {},
   "outputs": [
    {
     "output_type": "execute_result",
     "data": {
      "text/plain": [
       "{'1': 'a', '2': 'b'}"
      ]
     },
     "metadata": {},
     "execution_count": 11
    }
   ],
   "source": [
    "# key = string \n",
    "my_dict = {\n",
    "    '1': 'a', '2': 'b'\n",
    "}\n",
    "\n",
    "my_dict"
   ]
  },
  {
   "cell_type": "code",
   "execution_count": 17,
   "metadata": {},
   "outputs": [
    {
     "output_type": "execute_result",
     "data": {
      "text/plain": [
       "{'1': ['a', 2, 3], '2': 'b'}"
      ]
     },
     "metadata": {},
     "execution_count": 17
    }
   ],
   "source": [
    "my_dict = {\n",
    "    '1': ['a', 2, 3], '2': 'b'\n",
    "}\n",
    "my_dict"
   ]
  },
  {
   "cell_type": "code",
   "execution_count": 12,
   "metadata": {},
   "outputs": [
    {
     "output_type": "execute_result",
     "data": {
      "text/plain": [
       "{(1, 2): 'a', ('q', 2): 'b', ('3', '4'): 'c'}"
      ]
     },
     "metadata": {},
     "execution_count": 12
    }
   ],
   "source": [
    "# key = tuple\n",
    "my_dict = {\n",
    "    (1, 2): 'a', ('q', 2): 'b', ('3', '4'): 'c'\n",
    "}\n",
    "\n",
    "my_dict"
   ]
  },
  {
   "cell_type": "code",
   "execution_count": null,
   "metadata": {},
   "outputs": [],
   "source": []
  },
  {
   "cell_type": "code",
   "execution_count": 13,
   "metadata": {},
   "outputs": [
    {
     "output_type": "error",
     "ename": "TypeError",
     "evalue": "unhashable type: 'list'",
     "traceback": [
      "\u001b[0;31m---------------------------------------------------------------------------\u001b[0m",
      "\u001b[0;31mTypeError\u001b[0m                                 Traceback (most recent call last)",
      "\u001b[0;32m<ipython-input-13-55aba087ef1e>\u001b[0m in \u001b[0;36m<module>\u001b[0;34m\u001b[0m\n\u001b[1;32m      1\u001b[0m \u001b[0;31m# key != list\u001b[0m\u001b[0;34m\u001b[0m\u001b[0;34m\u001b[0m\u001b[0;34m\u001b[0m\u001b[0m\n\u001b[0;32m----> 2\u001b[0;31m my_dict = {\n\u001b[0m\u001b[1;32m      3\u001b[0m     \u001b[0;34m[\u001b[0m\u001b[0;36m1\u001b[0m\u001b[0;34m,\u001b[0m \u001b[0;36m2\u001b[0m\u001b[0;34m]\u001b[0m\u001b[0;34m:\u001b[0m \u001b[0;34m'a'\u001b[0m\u001b[0;34m\u001b[0m\u001b[0;34m\u001b[0m\u001b[0m\n\u001b[1;32m      4\u001b[0m }\n",
      "\u001b[0;31mTypeError\u001b[0m: unhashable type: 'list'"
     ]
    }
   ],
   "source": [
    "# key != list\n",
    "my_dict = {\n",
    "    [1, 2]: 'a'\n",
    "}"
   ]
  },
  {
   "cell_type": "code",
   "execution_count": 14,
   "metadata": {},
   "outputs": [
    {
     "output_type": "error",
     "ename": "TypeError",
     "evalue": "unhashable type: 'set'",
     "traceback": [
      "\u001b[0;31m---------------------------------------------------------------------------\u001b[0m",
      "\u001b[0;31mTypeError\u001b[0m                                 Traceback (most recent call last)",
      "\u001b[0;32m<ipython-input-14-9a31986fb674>\u001b[0m in \u001b[0;36m<module>\u001b[0;34m\u001b[0m\n\u001b[1;32m      1\u001b[0m \u001b[0;31m# key != set\u001b[0m\u001b[0;34m\u001b[0m\u001b[0;34m\u001b[0m\u001b[0;34m\u001b[0m\u001b[0m\n\u001b[0;32m----> 2\u001b[0;31m my_dict = {\n\u001b[0m\u001b[1;32m      3\u001b[0m     \u001b[0mset\u001b[0m\u001b[0;34m(\u001b[0m\u001b[0;34m[\u001b[0m\u001b[0;36m1\u001b[0m\u001b[0;34m,\u001b[0m \u001b[0;36m2\u001b[0m\u001b[0;34m]\u001b[0m\u001b[0;34m)\u001b[0m\u001b[0;34m:\u001b[0m \u001b[0;34m'a'\u001b[0m\u001b[0;34m\u001b[0m\u001b[0;34m\u001b[0m\u001b[0m\n\u001b[1;32m      4\u001b[0m }\n",
      "\u001b[0;31mTypeError\u001b[0m: unhashable type: 'set'"
     ]
    }
   ],
   "source": [
    "# key != set\n",
    "my_dict = {\n",
    "    set([1, 2]): 'a'\n",
    "}"
   ]
  },
  {
   "cell_type": "code",
   "execution_count": 15,
   "metadata": {},
   "outputs": [
    {
     "output_type": "error",
     "ename": "TypeError",
     "evalue": "unhashable type: 'dict'",
     "traceback": [
      "\u001b[0;31m---------------------------------------------------------------------------\u001b[0m",
      "\u001b[0;31mTypeError\u001b[0m                                 Traceback (most recent call last)",
      "\u001b[0;32m<ipython-input-15-64afb60a9524>\u001b[0m in \u001b[0;36m<module>\u001b[0;34m\u001b[0m\n\u001b[1;32m      1\u001b[0m \u001b[0;31m# key != dict\u001b[0m\u001b[0;34m\u001b[0m\u001b[0;34m\u001b[0m\u001b[0;34m\u001b[0m\u001b[0m\n\u001b[0;32m----> 2\u001b[0;31m my_dict = {\n\u001b[0m\u001b[1;32m      3\u001b[0m     \u001b[0;34m{\u001b[0m\u001b[0;36m1\u001b[0m\u001b[0;34m:\u001b[0m \u001b[0;34m'w'\u001b[0m\u001b[0;34m}\u001b[0m\u001b[0;34m:\u001b[0m \u001b[0;34m'a'\u001b[0m\u001b[0;34m\u001b[0m\u001b[0;34m\u001b[0m\u001b[0m\n\u001b[1;32m      4\u001b[0m }\n",
      "\u001b[0;31mTypeError\u001b[0m: unhashable type: 'dict'"
     ]
    }
   ],
   "source": [
    "# key != dict \n",
    "my_dict = {\n",
    "    {1: 'w'}: 'a'\n",
    "}"
   ]
  },
  {
   "source": [
    "### Set (множество)\n",
    "\n",
    "* хранит уникальные значения (БЕЗ ПОВТОРЕНИЙ)\n",
    "* не сохраняет порядок! (сортирует по-своему)\n",
    "* поддерживает операции между множествами (пересечение, объединение и т.д.)\n",
    "* можно добавить или обновить"
   ],
   "cell_type": "markdown",
   "metadata": {}
  },
  {
   "cell_type": "code",
   "execution_count": 18,
   "metadata": {},
   "outputs": [
    {
     "output_type": "execute_result",
     "data": {
      "text/plain": [
       "{1, 2, 4, 100}"
      ]
     },
     "metadata": {},
     "execution_count": 18
    }
   ],
   "source": [
    "my_set = set([100, 1, 2, 4, 4])\n",
    "my_set"
   ]
  },
  {
   "cell_type": "code",
   "execution_count": 19,
   "metadata": {},
   "outputs": [
    {
     "output_type": "execute_result",
     "data": {
      "text/plain": [
       "{1, 2, 4, 100}"
      ]
     },
     "metadata": {},
     "execution_count": 19
    }
   ],
   "source": [
    "my_set = {100, 1, 2, 4, 4}\n",
    "my_set"
   ]
  },
  {
   "cell_type": "code",
   "execution_count": 20,
   "metadata": {},
   "outputs": [
    {
     "output_type": "execute_result",
     "data": {
      "text/plain": [
       "{3, 5, 6}"
      ]
     },
     "metadata": {},
     "execution_count": 20
    }
   ],
   "source": [
    "another_set = set([3, 3, 5, 6])\n",
    "another_set"
   ]
  },
  {
   "cell_type": "code",
   "execution_count": 21,
   "metadata": {},
   "outputs": [
    {
     "output_type": "execute_result",
     "data": {
      "text/plain": [
       "False"
      ]
     },
     "metadata": {},
     "execution_count": 21
    }
   ],
   "source": [
    "my_set == another_set"
   ]
  },
  {
   "cell_type": "code",
   "execution_count": 22,
   "metadata": {},
   "outputs": [
    {
     "output_type": "execute_result",
     "data": {
      "text/plain": [
       "{1, 2, 4, 6, 100}"
      ]
     },
     "metadata": {},
     "execution_count": 22
    }
   ],
   "source": [
    "my_set.add(6)\n",
    "my_set"
   ]
  },
  {
   "cell_type": "code",
   "execution_count": 25,
   "metadata": {},
   "outputs": [
    {
     "output_type": "execute_result",
     "data": {
      "text/plain": [
       "{1, 100, 2, 4, 6, 'b', 'z'}"
      ]
     },
     "metadata": {},
     "execution_count": 25
    }
   ],
   "source": [
    "my_set.add('z')\n",
    "my_set"
   ]
  },
  {
   "cell_type": "code",
   "execution_count": 26,
   "metadata": {},
   "outputs": [
    {
     "output_type": "execute_result",
     "data": {
      "text/plain": [
       "{1, 100, 2, 3, 4, 6, 7, 'b', 'z'}"
      ]
     },
     "metadata": {},
     "execution_count": 26
    }
   ],
   "source": [
    "my_set.update([3, 7])\n",
    "\n",
    "my_set"
   ]
  },
  {
   "cell_type": "code",
   "execution_count": 27,
   "metadata": {},
   "outputs": [
    {
     "output_type": "stream",
     "name": "stdout",
     "text": [
      "my_set | qnother_set =  {1, 2, 'b', 100, 4, 6, 3, 7, 5, 'z'}\nmy_set.union(another_set) =  {1, 2, 'b', 100, 4, 6, 3, 7, 5, 'z'}\n"
     ]
    }
   ],
   "source": [
    "# объединение \n",
    "print(\"my_set | qnother_set = \", my_set | another_set)\n",
    "\n",
    "\n",
    "print(\"my_set.union(another_set) = \", my_set.union(another_set))"
   ]
  },
  {
   "cell_type": "code",
   "execution_count": 28,
   "metadata": {},
   "outputs": [
    {
     "output_type": "stream",
     "name": "stdout",
     "text": [
      "my_set & another_set =  {3, 6}\nmy_set.intersection(another_set) =  {3, 6}\n"
     ]
    }
   ],
   "source": [
    "# пересечение \n",
    "print(\"my_set & another_set = \", my_set & another_set)\n",
    "\n",
    "print(\"my_set.intersection(another_set) = \", my_set.intersection(another_set))"
   ]
  },
  {
   "source": [
    "## Неизменяемые типы данных"
   ],
   "cell_type": "markdown",
   "metadata": {}
  },
  {
   "source": [
    "### Tuple (кортеж)\n",
    "\n",
    "* может хранить разныети типы данных (как и список)\n",
    "* НЕЛЬЗЯ изменять данные в кортеже"
   ],
   "cell_type": "markdown",
   "metadata": {}
  },
  {
   "cell_type": "code",
   "execution_count": 29,
   "metadata": {},
   "outputs": [
    {
     "output_type": "execute_result",
     "data": {
      "text/plain": [
       "(1, 'a', 'hello', 50000)"
      ]
     },
     "metadata": {},
     "execution_count": 29
    }
   ],
   "source": [
    "my_tuple = (1, \"a\", \"hello\", 50000)\n",
    "\n",
    "my_tuple"
   ]
  },
  {
   "cell_type": "code",
   "execution_count": 31,
   "metadata": {},
   "outputs": [
    {
     "output_type": "execute_result",
     "data": {
      "text/plain": [
       "50000"
      ]
     },
     "metadata": {},
     "execution_count": 31
    }
   ],
   "source": [
    "my_tuple[3]"
   ]
  },
  {
   "cell_type": "code",
   "execution_count": 32,
   "metadata": {},
   "outputs": [
    {
     "output_type": "error",
     "ename": "TypeError",
     "evalue": "'tuple' object does not support item assignment",
     "traceback": [
      "\u001b[0;31m---------------------------------------------------------------------------\u001b[0m",
      "\u001b[0;31mTypeError\u001b[0m                                 Traceback (most recent call last)",
      "\u001b[0;32m<ipython-input-32-b94dacf91f39>\u001b[0m in \u001b[0;36m<module>\u001b[0;34m\u001b[0m\n\u001b[0;32m----> 1\u001b[0;31m \u001b[0mmy_tuple\u001b[0m\u001b[0;34m[\u001b[0m\u001b[0;36m0\u001b[0m\u001b[0;34m]\u001b[0m \u001b[0;34m=\u001b[0m \u001b[0;36m345678\u001b[0m\u001b[0;34m\u001b[0m\u001b[0;34m\u001b[0m\u001b[0m\n\u001b[0m",
      "\u001b[0;31mTypeError\u001b[0m: 'tuple' object does not support item assignment"
     ]
    }
   ],
   "source": [
    "my_tuple[0] = 345678"
   ]
  },
  {
   "source": [
    "### Frozen Set \n",
    "\n",
    "* неизменяемое множество \n",
    "* в остальном такое же как set "
   ],
   "cell_type": "markdown",
   "metadata": {}
  },
  {
   "cell_type": "code",
   "execution_count": 33,
   "metadata": {},
   "outputs": [
    {
     "output_type": "execute_result",
     "data": {
      "text/plain": [
       "frozenset({1, 3, 5, 7})"
      ]
     },
     "metadata": {},
     "execution_count": 33
    }
   ],
   "source": [
    "my_frozen_set = frozenset([1, 3, 3, 5, 7])\n",
    "my_frozen_set"
   ]
  },
  {
   "cell_type": "code",
   "execution_count": 34,
   "metadata": {},
   "outputs": [
    {
     "output_type": "error",
     "ename": "AttributeError",
     "evalue": "'frozenset' object has no attribute 'add'",
     "traceback": [
      "\u001b[0;31m---------------------------------------------------------------------------\u001b[0m",
      "\u001b[0;31mAttributeError\u001b[0m                            Traceback (most recent call last)",
      "\u001b[0;32m<ipython-input-34-fae1505fde55>\u001b[0m in \u001b[0;36m<module>\u001b[0;34m\u001b[0m\n\u001b[0;32m----> 1\u001b[0;31m \u001b[0mmy_frozen_set\u001b[0m\u001b[0;34m.\u001b[0m\u001b[0madd\u001b[0m\u001b[0;34m(\u001b[0m\u001b[0;36m8\u001b[0m\u001b[0;34m)\u001b[0m\u001b[0;34m\u001b[0m\u001b[0;34m\u001b[0m\u001b[0m\n\u001b[0m",
      "\u001b[0;31mAttributeError\u001b[0m: 'frozenset' object has no attribute 'add'"
     ]
    }
   ],
   "source": [
    "my_frozen_set.add(8)"
   ]
  },
  {
   "cell_type": "code",
   "execution_count": null,
   "metadata": {},
   "outputs": [],
   "source": []
  }
 ]
}