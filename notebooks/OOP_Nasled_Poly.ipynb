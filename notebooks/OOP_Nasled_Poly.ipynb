{
 "metadata": {
  "language_info": {
   "codemirror_mode": {
    "name": "ipython",
    "version": 3
   },
   "file_extension": ".py",
   "mimetype": "text/x-python",
   "name": "python",
   "nbconvert_exporter": "python",
   "pygments_lexer": "ipython3",
   "version": "3.8.7-final"
  },
  "orig_nbformat": 2,
  "kernelspec": {
   "name": "python3",
   "display_name": "Python 3.8.7 64-bit",
   "metadata": {
    "interpreter": {
     "hash": "31f2aee4e71d21fbe5cf8b01ff0e069b9275f58929596ceb00d14d90e3e16cd6"
    }
   }
  }
 },
 "nbformat": 4,
 "nbformat_minor": 2,
 "cells": [
  {
   "source": [
    "# Наследование"
   ],
   "cell_type": "markdown",
   "metadata": {}
  },
  {
   "source": [
    "Создание нового класса на основе уже существующего.\n",
    "\n",
    "* меньше кода (как вариант, но этого можно добиться и другими способами)\n",
    "* формирование **иерархий**\n",
    "\n",
    "Может быть вредным! Когда слишком много наследников. Тогда изменение в родительском классе уже страшно вносить, т.к. эти изменения могут повлиять на наследники. И потом придётся всё разгребать. \n",
    "\n",
    "**Вывод**: не стоит злоупотреблять наследованием!"
   ],
   "cell_type": "markdown",
   "metadata": {}
  },
  {
   "cell_type": "code",
   "execution_count": 20,
   "metadata": {},
   "outputs": [],
   "source": [
    "class Human:\n",
    "    life_form = 'mammal'\n",
    "    def __init__(self):\n",
    "        self.type_ = 'mammal-2'\n",
    "\n",
    "    def say_hello(self):\n",
    "        return \"Hello, volks!\""
   ]
  },
  {
   "cell_type": "code",
   "execution_count": 21,
   "metadata": {},
   "outputs": [],
   "source": [
    "class Boy(Human):\n",
    "    def __init__(self, name):\n",
    "        super().__init__()\n",
    "        \n",
    "        self.name = name "
   ]
  },
  {
   "cell_type": "code",
   "execution_count": 22,
   "metadata": {},
   "outputs": [],
   "source": [
    "class Ivan(Boy):\n",
    "    def __init__(self, age):\n",
    "        self.age = age"
   ]
  },
  {
   "cell_type": "code",
   "execution_count": 23,
   "metadata": {},
   "outputs": [],
   "source": [
    "ivan_1 = Ivan(45)"
   ]
  },
  {
   "cell_type": "code",
   "execution_count": 24,
   "metadata": {},
   "outputs": [
    {
     "output_type": "execute_result",
     "data": {
      "text/plain": [
       "'Hello, volks!'"
      ]
     },
     "metadata": {},
     "execution_count": 24
    }
   ],
   "source": [
    "ivan_1.say_hello()"
   ]
  },
  {
   "cell_type": "code",
   "execution_count": 8,
   "metadata": {},
   "outputs": [
    {
     "output_type": "execute_result",
     "data": {
      "text/plain": [
       "'Hello, volks!'"
      ]
     },
     "metadata": {},
     "execution_count": 8
    }
   ],
   "source": [
    "boy_1 = Boy('Ivan')\n",
    "boy_1.say_hello()"
   ]
  },
  {
   "cell_type": "code",
   "execution_count": 9,
   "metadata": {},
   "outputs": [
    {
     "output_type": "execute_result",
     "data": {
      "text/plain": [
       "'mammal-2'"
      ]
     },
     "metadata": {},
     "execution_count": 9
    }
   ],
   "source": [
    "boy_1.type_"
   ]
  },
  {
   "cell_type": "code",
   "execution_count": 18,
   "metadata": {},
   "outputs": [
    {
     "output_type": "execute_result",
     "data": {
      "text/plain": [
       "'mammal'"
      ]
     },
     "metadata": {},
     "execution_count": 18
    }
   ],
   "source": [
    "Boy.life_form"
   ]
  },
  {
   "source": [
    "# Полиморфизм"
   ],
   "cell_type": "markdown",
   "metadata": {}
  },
  {
   "source": [
    "В наследниках можно переопределять методы родителя\n",
    "\n",
    "Т.е. для каждого из наследников можно делать свою реализацию метода с одним и тем же именем"
   ],
   "cell_type": "markdown",
   "metadata": {}
  },
  {
   "cell_type": "code",
   "execution_count": 10,
   "metadata": {},
   "outputs": [],
   "source": [
    "class Human:\n",
    "    life_form = 'mammal'\n",
    "    def say_hello(self):\n",
    "        return \"Hello, volks!\"\n",
    "    \n",
    "    def get_class_name(self):\n",
    "        return 'Human'"
   ]
  },
  {
   "cell_type": "code",
   "execution_count": 11,
   "metadata": {},
   "outputs": [],
   "source": [
    "class Boy(Human):\n",
    "    def __init__(self, name):\n",
    "        self.name = name \n",
    "    \n",
    "    def get_class_name(self):\n",
    "        return 'Boy'"
   ]
  },
  {
   "cell_type": "code",
   "execution_count": 12,
   "metadata": {},
   "outputs": [],
   "source": [
    "class Girl(Human):\n",
    "    def __init__(self, name):\n",
    "        self.name = name \n",
    "    \n",
    "    def get_class_name(self):\n",
    "        return 'Girl'"
   ]
  },
  {
   "cell_type": "code",
   "execution_count": 13,
   "metadata": {},
   "outputs": [],
   "source": [
    "human_2 = Human()\n",
    "boy_2 = Boy('Bob')\n",
    "girl_2 = Girl('Kira')"
   ]
  },
  {
   "cell_type": "code",
   "execution_count": 14,
   "metadata": {},
   "outputs": [
    {
     "output_type": "execute_result",
     "data": {
      "text/plain": [
       "'Human'"
      ]
     },
     "metadata": {},
     "execution_count": 14
    }
   ],
   "source": [
    "human_2.get_class_name()"
   ]
  },
  {
   "cell_type": "code",
   "execution_count": 16,
   "metadata": {},
   "outputs": [
    {
     "output_type": "execute_result",
     "data": {
      "text/plain": [
       "'Boy'"
      ]
     },
     "metadata": {},
     "execution_count": 16
    }
   ],
   "source": [
    "boy_2.get_class_name()"
   ]
  },
  {
   "cell_type": "code",
   "execution_count": 26,
   "metadata": {},
   "outputs": [
    {
     "output_type": "execute_result",
     "data": {
      "text/plain": [
       "'Girl'"
      ]
     },
     "metadata": {},
     "execution_count": 26
    }
   ],
   "source": [
    "girl_2.get_class_name()"
   ]
  },
  {
   "source": [
    "## Полезные ссылки"
   ],
   "cell_type": "markdown",
   "metadata": {}
  },
  {
   "source": [
    "* [Что такое ООП?](https://www.youtube.com/watch?v=M58eiYbM6AE)\n",
    "* [Наследование](https://www.youtube.com/watch?v=eI0XzQw3V0Q)\n",
    "* [Полиморфизм](https://www.youtube.com/watch?v=Ay_GwOQWPs8)\n",
    "* [Полиморфизм (осторожно мат)](https://www.youtube.com/watch?v=ve3eAhuaF0s)\n",
    "* [Самые частые заблуждения о ООП (осторожно мат)](https://www.youtube.com/watch?v=BHNt1fcg8iw)"
   ],
   "cell_type": "markdown",
   "metadata": {}
  }
 ]
}